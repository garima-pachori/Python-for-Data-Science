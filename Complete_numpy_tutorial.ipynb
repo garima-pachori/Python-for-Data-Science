{
  "nbformat": 4,
  "nbformat_minor": 0,
  "metadata": {
    "colab": {
      "provenance": [],
      "authorship_tag": "ABX9TyNcpJXgUhtSZe8ebE+43253",
      "include_colab_link": true
    },
    "kernelspec": {
      "name": "python3",
      "display_name": "Python 3"
    },
    "language_info": {
      "name": "python"
    }
  },
  "cells": [
    {
      "cell_type": "markdown",
      "metadata": {
        "id": "view-in-github",
        "colab_type": "text"
      },
      "source": [
        "<a href=\"https://colab.research.google.com/github/garima-pachori/Python-for-Data-Science/blob/main/Complete_numpy_tutorial.ipynb\" target=\"_parent\"><img src=\"https://colab.research.google.com/assets/colab-badge.svg\" alt=\"Open In Colab\"/></a>"
      ]
    },
    {
      "cell_type": "code",
      "execution_count": null,
      "metadata": {
        "id": "AcFl8JBaeJ4S"
      },
      "outputs": [],
      "source": [
        "import numpy as np"
      ]
    },
    {
      "cell_type": "code",
      "source": [
        "l=[1,2,3,4]\n",
        "print(l)"
      ],
      "metadata": {
        "colab": {
          "base_uri": "https://localhost:8080/"
        },
        "id": "6ZfrZisWek3a",
        "outputId": "e8a74f3f-8576-4903-9195-33d96e308071"
      },
      "execution_count": null,
      "outputs": [
        {
          "output_type": "stream",
          "name": "stdout",
          "text": [
            "[1, 2, 3, 4]\n"
          ]
        }
      ]
    },
    {
      "cell_type": "markdown",
      "source": [
        "**Advantages of numpy over lists**\n",
        "\n",
        "\n",
        "*   **Efficiency**: NumPy is faster for numerical operations due to C implementation.\n",
        "*   **Vectorization**: Allows element-wise operations without loops.\n",
        "*  **Broadcasting**: Handles operations on arrays of different shapes.\n",
        "*  **Library Ecosystem**: Foundation for many scientific libraries.\n",
        "*   **Multidimensional Arrays**: Supports multi-dimensional data structures.\n",
        "*   **Math Functions**: Provides comprehensive mathematical functions.\n",
        "*  **Parallel Processing**: Utilizes multi-core CPUs for speed.\n",
        "*   **Cross-Language Integration**: Interfaces with C, C++, and Fortran.\n",
        "*   **Memory Efficiency**: Stores homogeneous data more efficiently.\n",
        "*   **Ease of Use**: Simplifies common scientific computing tasks.\n",
        "\n",
        "\n",
        "\n",
        "\n",
        "\n"
      ],
      "metadata": {
        "id": "zCWP2xfffLEo"
      }
    },
    {
      "cell_type": "code",
      "source": [
        "print(\"1 D array\")\n",
        "a=np.array([1,2,3,4])\n",
        "print(a)\n",
        "\n",
        "print(\"2 D array\")\n",
        "b=np.array([[1,2,3,4],[4,5,6,7]])\n",
        "print(b)\n",
        "\n",
        "print(\"3 D array\")\n",
        "c=np.array([[[1,2,3,4],[4,5,6,7],[8,19,20,21]]])\n",
        "print(c)"
      ],
      "metadata": {
        "colab": {
          "base_uri": "https://localhost:8080/"
        },
        "id": "f4J7SEBAgm6H",
        "outputId": "3d008732-e2a4-4674-e9fd-baa623c840c2"
      },
      "execution_count": null,
      "outputs": [
        {
          "output_type": "stream",
          "name": "stdout",
          "text": [
            "1 D array\n",
            "[1 2 3 4]\n",
            "2 D array\n",
            "[[1 2 3 4]\n",
            " [4 5 6 7]]\n",
            "3 D array\n",
            "[[[ 1  2  3  4]\n",
            "  [ 4  5  6  7]\n",
            "  [ 8 19 20 21]]]\n"
          ]
        }
      ]
    },
    {
      "cell_type": "code",
      "source": [
        "type(a) #n dimentional array of numpy type"
      ],
      "metadata": {
        "colab": {
          "base_uri": "https://localhost:8080/"
        },
        "id": "EIW8nvdQhSd-",
        "outputId": "36b6ffc3-4896-49a1-9dc6-be737efc7dd2"
      },
      "execution_count": null,
      "outputs": [
        {
          "output_type": "execute_result",
          "data": {
            "text/plain": [
              "numpy.ndarray"
            ]
          },
          "metadata": {},
          "execution_count": 21
        }
      ]
    },
    {
      "cell_type": "markdown",
      "source": [
        "size = tells about the number of elements in the array"
      ],
      "metadata": {
        "id": "Jr7Zfh0_hmNg"
      }
    },
    {
      "cell_type": "code",
      "source": [
        "print(a.size)\n",
        "print(b.size)\n",
        "print(c.size)"
      ],
      "metadata": {
        "colab": {
          "base_uri": "https://localhost:8080/"
        },
        "id": "HcEfZVUWhjsr",
        "outputId": "cbe456b6-be41-44db-e248-c5142fb3644e"
      },
      "execution_count": null,
      "outputs": [
        {
          "output_type": "stream",
          "name": "stdout",
          "text": [
            "4\n",
            "8\n",
            "12\n"
          ]
        }
      ]
    },
    {
      "cell_type": "markdown",
      "source": [
        "shape=(rows,columns)"
      ],
      "metadata": {
        "id": "ua2Lawj1iqe8"
      }
    },
    {
      "cell_type": "code",
      "source": [
        "print(a.shape)\n",
        "print(b.shape)\n",
        "print(c.shape)"
      ],
      "metadata": {
        "colab": {
          "base_uri": "https://localhost:8080/"
        },
        "id": "T9vUqOAGiuEN",
        "outputId": "f1276c79-0e51-4e14-cfe9-ef56f20566d2"
      },
      "execution_count": null,
      "outputs": [
        {
          "output_type": "stream",
          "name": "stdout",
          "text": [
            "(4,)\n",
            "(2, 4)\n",
            "(1, 3, 4)\n"
          ]
        }
      ]
    },
    {
      "cell_type": "markdown",
      "source": [
        "dtype= type of data type present in the array"
      ],
      "metadata": {
        "id": "FkDKzJtOi7lE"
      }
    },
    {
      "cell_type": "code",
      "source": [
        "print(a.dtype)\n",
        "print(b.dtype)\n",
        "print(c.dtype)"
      ],
      "metadata": {
        "colab": {
          "base_uri": "https://localhost:8080/"
        },
        "id": "4_M1fI1Qi6Wp",
        "outputId": "e9e84ad6-9e68-4127-c4ab-81fbf76477e9"
      },
      "execution_count": null,
      "outputs": [
        {
          "output_type": "stream",
          "name": "stdout",
          "text": [
            "int64\n",
            "int64\n",
            "int64\n"
          ]
        }
      ]
    },
    {
      "cell_type": "markdown",
      "source": [
        "transpose of a matrix can be done in numpy using\n",
        "\n",
        "*   arr.transpose()\n",
        "\n"
      ],
      "metadata": {
        "id": "upRsR0ywje4v"
      }
    },
    {
      "cell_type": "code",
      "source": [
        "arr=np.array([[1,2,3,4],\n",
        "              [5,6,7,8],\n",
        "              [9,10,11,12]])\n",
        "arr.transpose()"
      ],
      "metadata": {
        "colab": {
          "base_uri": "https://localhost:8080/"
        },
        "id": "NAsjjtayjjxG",
        "outputId": "080e19a4-fc11-4138-c738-c54237065ba7"
      },
      "execution_count": null,
      "outputs": [
        {
          "output_type": "execute_result",
          "data": {
            "text/plain": [
              "array([[ 1,  5,  9],\n",
              "       [ 2,  6, 10],\n",
              "       [ 3,  7, 11],\n",
              "       [ 4,  8, 12]])"
            ]
          },
          "metadata": {},
          "execution_count": 26
        }
      ]
    }
  ]
}