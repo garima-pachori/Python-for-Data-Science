{
  "nbformat": 4,
  "nbformat_minor": 0,
  "metadata": {
    "colab": {
      "provenance": [],
      "authorship_tag": "ABX9TyNyuCCwD9arxLSM4dEJ2pNx",
      "include_colab_link": true
    },
    "kernelspec": {
      "name": "python3",
      "display_name": "Python 3"
    },
    "language_info": {
      "name": "python"
    }
  },
  "cells": [
    {
      "cell_type": "markdown",
      "metadata": {
        "id": "view-in-github",
        "colab_type": "text"
      },
      "source": [
        "<a href=\"https://colab.research.google.com/github/garima-pachori/Python-for-Data-Science/blob/main/Complete_numpy_tutorial.ipynb\" target=\"_parent\"><img src=\"https://colab.research.google.com/assets/colab-badge.svg\" alt=\"Open In Colab\"/></a>"
      ]
    },
    {
      "cell_type": "code",
      "execution_count": null,
      "metadata": {
        "id": "AcFl8JBaeJ4S"
      },
      "outputs": [],
      "source": [
        "import numpy as np"
      ]
    },
    {
      "cell_type": "code",
      "source": [
        "l=[1,2,3,4]\n",
        "print(l)"
      ],
      "metadata": {
        "colab": {
          "base_uri": "https://localhost:8080/"
        },
        "id": "6ZfrZisWek3a",
        "outputId": "e8a74f3f-8576-4903-9195-33d96e308071"
      },
      "execution_count": null,
      "outputs": [
        {
          "output_type": "stream",
          "name": "stdout",
          "text": [
            "[1, 2, 3, 4]\n"
          ]
        }
      ]
    },
    {
      "cell_type": "markdown",
      "source": [
        "**Advantages of numpy over lists**\n",
        "\n",
        "\n",
        "*   **Efficiency**: NumPy is faster for numerical operations due to C implementation.\n",
        "*   **Vectorization**: Allows element-wise operations without loops.\n",
        "*  **Broadcasting**: Handles operations on arrays of different shapes.\n",
        "*  **Library Ecosystem**: Foundation for many scientific libraries.\n",
        "*   **Multidimensional Arrays**: Supports multi-dimensional data structures.\n",
        "*   **Math Functions**: Provides comprehensive mathematical functions.\n",
        "*  **Parallel Processing**: Utilizes multi-core CPUs for speed.\n",
        "*   **Cross-Language Integration**: Interfaces with C, C++, and Fortran.\n",
        "*   **Memory Efficiency**: Stores homogeneous data more efficiently.\n",
        "*   **Ease of Use**: Simplifies common scientific computing tasks.\n",
        "\n",
        "\n",
        "\n",
        "\n",
        "\n"
      ],
      "metadata": {
        "id": "zCWP2xfffLEo"
      }
    },
    {
      "cell_type": "markdown",
      "source": [],
      "metadata": {
        "id": "IR4sGc5jlgro"
      }
    },
    {
      "cell_type": "code",
      "source": [
        "print(\"1 D array\")\n",
        "a=np.array([1,2,3,4])\n",
        "print(a)\n",
        "\n",
        "print(\"2 D array\")\n",
        "b=np.array([[1,2,3,4],[4,5,6,7]])\n",
        "print(b)\n",
        "\n",
        "print(\"3 D array\")\n",
        "c=np.array([[[1,2,3,4],[4,5,6,7],[8,19,20,21]]])\n",
        "print(c)"
      ],
      "metadata": {
        "colab": {
          "base_uri": "https://localhost:8080/"
        },
        "id": "f4J7SEBAgm6H",
        "outputId": "3d008732-e2a4-4674-e9fd-baa623c840c2"
      },
      "execution_count": null,
      "outputs": [
        {
          "output_type": "stream",
          "name": "stdout",
          "text": [
            "1 D array\n",
            "[1 2 3 4]\n",
            "2 D array\n",
            "[[1 2 3 4]\n",
            " [4 5 6 7]]\n",
            "3 D array\n",
            "[[[ 1  2  3  4]\n",
            "  [ 4  5  6  7]\n",
            "  [ 8 19 20 21]]]\n"
          ]
        }
      ]
    },
    {
      "cell_type": "code",
      "source": [
        "type(a) #n dimentional array of numpy type"
      ],
      "metadata": {
        "colab": {
          "base_uri": "https://localhost:8080/"
        },
        "id": "EIW8nvdQhSd-",
        "outputId": "36b6ffc3-4896-49a1-9dc6-be737efc7dd2"
      },
      "execution_count": null,
      "outputs": [
        {
          "output_type": "execute_result",
          "data": {
            "text/plain": [
              "numpy.ndarray"
            ]
          },
          "metadata": {},
          "execution_count": 21
        }
      ]
    },
    {
      "cell_type": "markdown",
      "source": [
        "size = tells about the number of elements in the array"
      ],
      "metadata": {
        "id": "Jr7Zfh0_hmNg"
      }
    },
    {
      "cell_type": "code",
      "source": [
        "print(a.size)\n",
        "print(b.size)\n",
        "print(c.size)"
      ],
      "metadata": {
        "colab": {
          "base_uri": "https://localhost:8080/"
        },
        "id": "HcEfZVUWhjsr",
        "outputId": "cbe456b6-be41-44db-e248-c5142fb3644e"
      },
      "execution_count": null,
      "outputs": [
        {
          "output_type": "stream",
          "name": "stdout",
          "text": [
            "4\n",
            "8\n",
            "12\n"
          ]
        }
      ]
    },
    {
      "cell_type": "markdown",
      "source": [
        "shape=(rows,columns)"
      ],
      "metadata": {
        "id": "ua2Lawj1iqe8"
      }
    },
    {
      "cell_type": "code",
      "source": [
        "print(a.shape)\n",
        "print(b.shape)\n",
        "print(c.shape)"
      ],
      "metadata": {
        "colab": {
          "base_uri": "https://localhost:8080/"
        },
        "id": "T9vUqOAGiuEN",
        "outputId": "f1276c79-0e51-4e14-cfe9-ef56f20566d2"
      },
      "execution_count": null,
      "outputs": [
        {
          "output_type": "stream",
          "name": "stdout",
          "text": [
            "(4,)\n",
            "(2, 4)\n",
            "(1, 3, 4)\n"
          ]
        }
      ]
    },
    {
      "cell_type": "markdown",
      "source": [
        "dtype= type of data type present in the array"
      ],
      "metadata": {
        "id": "FkDKzJtOi7lE"
      }
    },
    {
      "cell_type": "code",
      "source": [
        "print(a.dtype)\n",
        "print(b.dtype)\n",
        "print(c.dtype)"
      ],
      "metadata": {
        "colab": {
          "base_uri": "https://localhost:8080/"
        },
        "id": "4_M1fI1Qi6Wp",
        "outputId": "e9e84ad6-9e68-4127-c4ab-81fbf76477e9"
      },
      "execution_count": null,
      "outputs": [
        {
          "output_type": "stream",
          "name": "stdout",
          "text": [
            "int64\n",
            "int64\n",
            "int64\n"
          ]
        }
      ]
    },
    {
      "cell_type": "markdown",
      "source": [
        "transpose of a matrix can be done in numpy using\n",
        "\n",
        "*   arr.transpose()\n",
        "\n"
      ],
      "metadata": {
        "id": "upRsR0ywje4v"
      }
    },
    {
      "cell_type": "code",
      "source": [
        "arr=np.array([[1,2,3,4],\n",
        "              [5,6,7,8],\n",
        "              [9,10,11,12]])\n",
        "arr.transpose()"
      ],
      "metadata": {
        "colab": {
          "base_uri": "https://localhost:8080/"
        },
        "id": "NAsjjtayjjxG",
        "outputId": "080e19a4-fc11-4138-c738-c54237065ba7"
      },
      "execution_count": null,
      "outputs": [
        {
          "output_type": "execute_result",
          "data": {
            "text/plain": [
              "array([[ 1,  5,  9],\n",
              "       [ 2,  6, 10],\n",
              "       [ 3,  7, 11],\n",
              "       [ 4,  8, 12]])"
            ]
          },
          "metadata": {},
          "execution_count": 26
        }
      ]
    },
    {
      "cell_type": "markdown",
      "source": [
        "For creating an empty array in numpy using dummy entries\n",
        "\n",
        "np.empty((rows,colums), dtype)"
      ],
      "metadata": {
        "id": "CUQzXfKEljyJ"
      }
    },
    {
      "cell_type": "code",
      "source": [
        "np.empty((4,4),dtype=int)"
      ],
      "metadata": {
        "colab": {
          "base_uri": "https://localhost:8080/"
        },
        "id": "KSXBX8gDlkGN",
        "outputId": "7d155eea-667b-4ae6-fdab-da10c468f2c6"
      },
      "execution_count": 28,
      "outputs": [
        {
          "output_type": "execute_result",
          "data": {
            "text/plain": [
              "array([[     98174096567598,                   0, 7311066427795573289,\n",
              "        7018969345223652210],\n",
              "       [3972238893807658862, 6133938014827197230, 7598242681305851251,\n",
              "        8241904473059648097],\n",
              "       [7957697953151197285, 7021244194802001255, 2314861394247640174,\n",
              "        7020303014056697888],\n",
              "       [7308895158389664103, 7023201308319639840, 2338606692303926137,\n",
              "        7594873701694008949]])"
            ]
          },
          "metadata": {},
          "execution_count": 28
        }
      ]
    },
    {
      "cell_type": "code",
      "source": [
        "np.empty((4,4),dtype=float)"
      ],
      "metadata": {
        "colab": {
          "base_uri": "https://localhost:8080/"
        },
        "id": "pHXggGe7mHRB",
        "outputId": "cb6e9f12-a34f-4a7c-e1ac-45ccebfe3e29"
      },
      "execution_count": 29,
      "outputs": [
        {
          "output_type": "execute_result",
          "data": {
            "text/plain": [
              "array([[4.85044477e-310, 0.00000000e+000, 6.62438493e+265,\n",
              "        1.96680888e+243],\n",
              "       [1.26004864e+232, 1.01341102e+242, 6.01347002e-154,\n",
              "        5.76720550e+228],\n",
              "       [5.04620658e+180, 2.25538747e+276, 6.45598388e+170,\n",
              "        2.43567338e-152],\n",
              "       [2.48021224e+180, 5.98742040e+247, 9.08367229e+223,\n",
              "        2.66123004e-258]])"
            ]
          },
          "metadata": {},
          "execution_count": 29
        }
      ]
    },
    {
      "cell_type": "markdown",
      "source": [
        "\n",
        "\n",
        "---\n",
        "\n",
        "\n",
        "The **np.ones()** function generates an array filled with the value 1. In this case, you are creating an array with six elements, and all elements will have the value 1.\n",
        "\n",
        "\n",
        "---\n",
        "\n"
      ],
      "metadata": {
        "id": "eJwJgbwbmwRo"
      }
    },
    {
      "cell_type": "code",
      "source": [
        "x=np.ones(6)\n",
        "print(x)\n",
        "x"
      ],
      "metadata": {
        "colab": {
          "base_uri": "https://localhost:8080/"
        },
        "id": "ZgzeD6AimVtt",
        "outputId": "ef972783-2835-4b93-d7fc-f1d85bbe22d8"
      },
      "execution_count": 32,
      "outputs": [
        {
          "output_type": "stream",
          "name": "stdout",
          "text": [
            "[1. 1. 1. 1. 1. 1.]\n"
          ]
        },
        {
          "output_type": "execute_result",
          "data": {
            "text/plain": [
              "array([1., 1., 1., 1., 1., 1.])"
            ]
          },
          "metadata": {},
          "execution_count": 32
        }
      ]
    },
    {
      "cell_type": "code",
      "source": [
        "y=np.ones((4,4))\n",
        "print(y)\n",
        "\n",
        "y"
      ],
      "metadata": {
        "colab": {
          "base_uri": "https://localhost:8080/"
        },
        "id": "1Om1H434m0Uq",
        "outputId": "d56983b3-8998-4a5d-c371-5006a7f34275"
      },
      "execution_count": 35,
      "outputs": [
        {
          "output_type": "stream",
          "name": "stdout",
          "text": [
            "[[1. 1. 1. 1.]\n",
            " [1. 1. 1. 1.]\n",
            " [1. 1. 1. 1.]\n",
            " [1. 1. 1. 1.]]\n"
          ]
        },
        {
          "output_type": "execute_result",
          "data": {
            "text/plain": [
              "array([[1., 1., 1., 1.],\n",
              "       [1., 1., 1., 1.],\n",
              "       [1., 1., 1., 1.],\n",
              "       [1., 1., 1., 1.]])"
            ]
          },
          "metadata": {},
          "execution_count": 35
        }
      ]
    },
    {
      "cell_type": "code",
      "source": [
        "y=np.ones((4,4), dtype=int)\n",
        "print(y)\n",
        "\n",
        "y"
      ],
      "metadata": {
        "colab": {
          "base_uri": "https://localhost:8080/"
        },
        "id": "3XgWobRVnilo",
        "outputId": "b0434869-0374-45dd-c536-97023dfa3b0b"
      },
      "execution_count": 40,
      "outputs": [
        {
          "output_type": "stream",
          "name": "stdout",
          "text": [
            "[[1 1 1 1]\n",
            " [1 1 1 1]\n",
            " [1 1 1 1]\n",
            " [1 1 1 1]]\n"
          ]
        },
        {
          "output_type": "execute_result",
          "data": {
            "text/plain": [
              "array([[1, 1, 1, 1],\n",
              "       [1, 1, 1, 1],\n",
              "       [1, 1, 1, 1],\n",
              "       [1, 1, 1, 1]])"
            ]
          },
          "metadata": {},
          "execution_count": 40
        }
      ]
    },
    {
      "cell_type": "code",
      "source": [
        "x=np.zeros(6)\n",
        "print(x)\n",
        "x"
      ],
      "metadata": {
        "colab": {
          "base_uri": "https://localhost:8080/"
        },
        "id": "kKM78VlvnPRV",
        "outputId": "5f9fa71f-a145-4bf8-d6b4-ad0fd018914a"
      },
      "execution_count": 36,
      "outputs": [
        {
          "output_type": "stream",
          "name": "stdout",
          "text": [
            "[0. 0. 0. 0. 0. 0.]\n"
          ]
        },
        {
          "output_type": "execute_result",
          "data": {
            "text/plain": [
              "array([0., 0., 0., 0., 0., 0.])"
            ]
          },
          "metadata": {},
          "execution_count": 36
        }
      ]
    },
    {
      "cell_type": "code",
      "source": [
        "y=np.zeros((4,4))\n",
        "print(y)\n",
        "y"
      ],
      "metadata": {
        "colab": {
          "base_uri": "https://localhost:8080/"
        },
        "id": "AXsYIRbTnUmE",
        "outputId": "12d6bef8-f295-4daa-b4a2-8cc57f156966"
      },
      "execution_count": 38,
      "outputs": [
        {
          "output_type": "stream",
          "name": "stdout",
          "text": [
            "[[0. 0. 0. 0.]\n",
            " [0. 0. 0. 0.]\n",
            " [0. 0. 0. 0.]\n",
            " [0. 0. 0. 0.]]\n"
          ]
        },
        {
          "output_type": "execute_result",
          "data": {
            "text/plain": [
              "array([[0., 0., 0., 0.],\n",
              "       [0., 0., 0., 0.],\n",
              "       [0., 0., 0., 0.],\n",
              "       [0., 0., 0., 0.]])"
            ]
          },
          "metadata": {},
          "execution_count": 38
        }
      ]
    },
    {
      "cell_type": "code",
      "source": [
        "y=np.zeros((4,4), dtype=int)\n",
        "print(y)\n",
        "y"
      ],
      "metadata": {
        "colab": {
          "base_uri": "https://localhost:8080/"
        },
        "id": "mQzGMmgMnfAA",
        "outputId": "25f02db4-036b-4650-8d74-09be719b9d73"
      },
      "execution_count": 39,
      "outputs": [
        {
          "output_type": "stream",
          "name": "stdout",
          "text": [
            "[[0 0 0 0]\n",
            " [0 0 0 0]\n",
            " [0 0 0 0]\n",
            " [0 0 0 0]]\n"
          ]
        },
        {
          "output_type": "execute_result",
          "data": {
            "text/plain": [
              "array([[0, 0, 0, 0],\n",
              "       [0, 0, 0, 0],\n",
              "       [0, 0, 0, 0],\n",
              "       [0, 0, 0, 0]])"
            ]
          },
          "metadata": {},
          "execution_count": 39
        }
      ]
    },
    {
      "cell_type": "code",
      "source": [
        "y=np.zeros((4,4), dtype=str)\n",
        "print(y)\n",
        "\n",
        "\n",
        "y=np.zeros((4,4), dtype=bool)\n",
        "print(y)\n",
        "y"
      ],
      "metadata": {
        "colab": {
          "base_uri": "https://localhost:8080/"
        },
        "id": "OFHsfifxnrC3",
        "outputId": "202b4a93-15d2-4e8f-f9b3-9fe23456a832"
      },
      "execution_count": 43,
      "outputs": [
        {
          "output_type": "stream",
          "name": "stdout",
          "text": [
            "[['' '' '' '']\n",
            " ['' '' '' '']\n",
            " ['' '' '' '']\n",
            " ['' '' '' '']]\n",
            "[[False False False False]\n",
            " [False False False False]\n",
            " [False False False False]\n",
            " [False False False False]]\n"
          ]
        },
        {
          "output_type": "execute_result",
          "data": {
            "text/plain": [
              "array([[False, False, False, False],\n",
              "       [False, False, False, False],\n",
              "       [False, False, False, False],\n",
              "       [False, False, False, False]])"
            ]
          },
          "metadata": {},
          "execution_count": 43
        }
      ]
    },
    {
      "cell_type": "markdown",
      "source": [
        "\n",
        "\n",
        "---\n",
        "\n",
        "\n",
        "The ***np.arange()*** function is used to create an array of evenly spaced values within a specified range.\n",
        "\n",
        "np.arange(start,end,step)\n",
        "\n",
        "\n",
        "---\n",
        "\n"
      ],
      "metadata": {
        "id": "9O9IvZn4pyqL"
      }
    },
    {
      "cell_type": "code",
      "source": [
        "a=np.arange(1,20)\n",
        "print(a)"
      ],
      "metadata": {
        "colab": {
          "base_uri": "https://localhost:8080/"
        },
        "id": "BHkmlIKIp60a",
        "outputId": "f8b2c395-edbc-4981-f637-47a5b3e429db"
      },
      "execution_count": 46,
      "outputs": [
        {
          "output_type": "stream",
          "name": "stdout",
          "text": [
            "[ 1  2  3  4  5  6  7  8  9 10 11 12 13 14 15 16 17 18 19]\n"
          ]
        }
      ]
    },
    {
      "cell_type": "code",
      "source": [
        "a=np.arange(2,20,2)\n",
        "print(a)"
      ],
      "metadata": {
        "colab": {
          "base_uri": "https://localhost:8080/"
        },
        "id": "HKzxyxGAqPVx",
        "outputId": "d188269f-a13d-480e-ab56-b2b25d9166f2"
      },
      "execution_count": 49,
      "outputs": [
        {
          "output_type": "stream",
          "name": "stdout",
          "text": [
            "[ 2  4  6  8 10 12 14 16 18]\n"
          ]
        }
      ]
    },
    {
      "cell_type": "markdown",
      "source": [
        "\n",
        "\n",
        "---\n",
        "\n",
        "\n",
        "The ***reshape()*** method in NumPy is used to change the shape of an existing array without changing its data. It allows you to specify the dimensions (shape) you want for the resulting array as long as the total number of elements remains the same.\n",
        "\n",
        "***arr.reshape((rows,columns))***\n",
        "\n",
        "\n",
        "---\n",
        "\n"
      ],
      "metadata": {
        "id": "AD8U6F1grUbL"
      }
    },
    {
      "cell_type": "code",
      "source": [
        "a=a.reshape((3,3)) #only 9 elements must be there in that array then\n",
        "print(a)"
      ],
      "metadata": {
        "colab": {
          "base_uri": "https://localhost:8080/"
        },
        "id": "GX8qBCptqX9r",
        "outputId": "022a2247-31a5-47ad-ec1c-8daf374fe9d6"
      },
      "execution_count": 51,
      "outputs": [
        {
          "output_type": "stream",
          "name": "stdout",
          "text": [
            "[[ 2  4  6]\n",
            " [ 8 10 12]\n",
            " [14 16 18]]\n"
          ]
        }
      ]
    }
  ]
}