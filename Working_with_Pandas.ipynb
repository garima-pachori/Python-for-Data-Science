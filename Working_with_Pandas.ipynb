{
  "nbformat": 4,
  "nbformat_minor": 0,
  "metadata": {
    "colab": {
      "provenance": [],
      "authorship_tag": "ABX9TyOD/aZxozQuha6DrhJnnwlw",
      "include_colab_link": true
    },
    "kernelspec": {
      "name": "python3",
      "display_name": "Python 3"
    },
    "language_info": {
      "name": "python"
    }
  },
  "cells": [
    {
      "cell_type": "markdown",
      "metadata": {
        "id": "view-in-github",
        "colab_type": "text"
      },
      "source": [
        "<a href=\"https://colab.research.google.com/github/garima-pachori/Python-for-Data-Science/blob/main/Working_with_Pandas.ipynb\" target=\"_parent\"><img src=\"https://colab.research.google.com/assets/colab-badge.svg\" alt=\"Open In Colab\"/></a>"
      ]
    },
    {
      "cell_type": "code",
      "execution_count": 1,
      "metadata": {
        "id": "F593ikOS3tcx"
      },
      "outputs": [],
      "source": [
        "import pandas as pd"
      ]
    },
    {
      "cell_type": "code",
      "source": [
        "pd.__version__"
      ],
      "metadata": {
        "colab": {
          "base_uri": "https://localhost:8080/",
          "height": 36
        },
        "id": "7xyMysDk37t9",
        "outputId": "bec6aeca-3475-418f-e3dc-164fa41424e1"
      },
      "execution_count": 2,
      "outputs": [
        {
          "output_type": "execute_result",
          "data": {
            "text/plain": [
              "'1.5.3'"
            ],
            "application/vnd.google.colaboratory.intrinsic+json": {
              "type": "string"
            }
          },
          "metadata": {},
          "execution_count": 2
        }
      ]
    },
    {
      "cell_type": "markdown",
      "source": [
        "\n",
        "\n",
        "---\n",
        "\n",
        "\n",
        "**Python series with python lists**\n",
        "\n",
        "---\n"
      ],
      "metadata": {
        "id": "liRi77Za4Hj6"
      }
    },
    {
      "cell_type": "code",
      "source": [
        "l=[1,2,3,4,5,6]\n",
        "print(l)"
      ],
      "metadata": {
        "colab": {
          "base_uri": "https://localhost:8080/"
        },
        "id": "qnkYJ5s94e6X",
        "outputId": "39439b46-05fb-401c-83b4-ba0699b28000"
      },
      "execution_count": 3,
      "outputs": [
        {
          "output_type": "stream",
          "name": "stdout",
          "text": [
            "[1, 2, 3, 4, 5, 6]\n"
          ]
        }
      ]
    },
    {
      "cell_type": "markdown",
      "source": [
        "\n",
        "\n",
        "---\n",
        "\n",
        "\n",
        "\n",
        "***series = pd.Series(l)***: This line creates a Pandas Series object named\n",
        "\n",
        "series from the list l. A Pandas Series is a one-dimensional labeled array that can hold data of various types.\n",
        "\n",
        "\n",
        "---\n",
        "\n"
      ],
      "metadata": {
        "id": "WSxYdk4H6jY3"
      }
    },
    {
      "cell_type": "code",
      "source": [
        "series=pd.Series(l)\n",
        "print(series)\n",
        "print(type(series))"
      ],
      "metadata": {
        "colab": {
          "base_uri": "https://localhost:8080/"
        },
        "id": "Pphuy9-75WbG",
        "outputId": "21db233e-5843-42dd-92cb-78bae6bdec18"
      },
      "execution_count": 4,
      "outputs": [
        {
          "output_type": "stream",
          "name": "stdout",
          "text": [
            "0    1\n",
            "1    2\n",
            "2    3\n",
            "3    4\n",
            "4    5\n",
            "5    6\n",
            "dtype: int64\n",
            "<class 'pandas.core.series.Series'>\n"
          ]
        }
      ]
    },
    {
      "cell_type": "markdown",
      "source": [
        "***empty = pd.Series([ ])***: This line creates a Pandas Series object named empty. Inside the pd.Series() constructor, is a empty list ([]) as the data for the Series. As a result, the Series is created with no data.\n",
        "\n",
        "---\n",
        "\n",
        "\n",
        "\n"
      ],
      "metadata": {
        "id": "42e6ePZC63xs"
      }
    },
    {
      "cell_type": "code",
      "source": [
        "empty=pd.Series([])\n",
        "print(empty)"
      ],
      "metadata": {
        "colab": {
          "base_uri": "https://localhost:8080/"
        },
        "id": "XoEhk3_F5x5l",
        "outputId": "b3c872a0-cca2-46e5-ae6c-50535a246e38"
      },
      "execution_count": 7,
      "outputs": [
        {
          "output_type": "stream",
          "name": "stdout",
          "text": [
            "Series([], dtype: float64)\n"
          ]
        },
        {
          "output_type": "stream",
          "name": "stderr",
          "text": [
            "<ipython-input-7-961680beac3f>:1: FutureWarning: The default dtype for empty Series will be 'object' instead of 'float64' in a future version. Specify a dtype explicitly to silence this warning.\n",
            "  empty=pd.Series([])\n"
          ]
        }
      ]
    },
    {
      "cell_type": "code",
      "source": [
        "a=pd.Series(['a','b','c','d','e'], index=[10,11,12,13,14], name=\"alphabets\")\n",
        "a"
      ],
      "metadata": {
        "colab": {
          "base_uri": "https://localhost:8080/"
        },
        "id": "41ioGrgs6DAV",
        "outputId": "124b835f-283c-4814-e9b3-a3ea0899c6da"
      },
      "execution_count": 9,
      "outputs": [
        {
          "output_type": "execute_result",
          "data": {
            "text/plain": [
              "10    a\n",
              "11    b\n",
              "12    c\n",
              "13    d\n",
              "14    e\n",
              "Name: alphabets, dtype: object"
            ]
          },
          "metadata": {},
          "execution_count": 9
        }
      ]
    },
    {
      "cell_type": "code",
      "source": [],
      "metadata": {
        "id": "f3P5sztf9AY4"
      },
      "execution_count": null,
      "outputs": []
    },
    {
      "cell_type": "code",
      "source": [
        "scaler_Series=pd.Series(0.5)\n",
        "scaler_Series"
      ],
      "metadata": {
        "colab": {
          "base_uri": "https://localhost:8080/"
        },
        "id": "ZCFTNDEh8WwW",
        "outputId": "78db04d4-e9f7-4b53-a369-35310703fc00"
      },
      "execution_count": 10,
      "outputs": [
        {
          "output_type": "execute_result",
          "data": {
            "text/plain": [
              "0    0.5\n",
              "dtype: float64"
            ]
          },
          "metadata": {},
          "execution_count": 10
        }
      ]
    },
    {
      "cell_type": "markdown",
      "source": [
        "\n",
        "\n",
        "---\n",
        "This Series effectively stores scalar (single) data, and you can perform various operations and calculations on this value using Pandas' built-in functions, making it useful for handling individual data points in a structured way within a Pandas Series object.\n",
        "\n",
        "---\n",
        "\n",
        "***Python series with python dictionary***\n",
        "\n"
      ],
      "metadata": {
        "id": "rKPTHWyx8wKk"
      }
    },
    {
      "cell_type": "code",
      "source": [
        "dictionary_Series=pd.Series({'p': 1,'q': 2,'r': 3,'s': 4,'t': 5})\n",
        "dictionary_Series"
      ],
      "metadata": {
        "colab": {
          "base_uri": "https://localhost:8080/"
        },
        "id": "6jJpip_99CXG",
        "outputId": "7186111c-803b-4306-ccf5-6e89f05ba231"
      },
      "execution_count": 12,
      "outputs": [
        {
          "output_type": "execute_result",
          "data": {
            "text/plain": [
              "p    1\n",
              "q    2\n",
              "r    3\n",
              "s    4\n",
              "t    5\n",
              "dtype: int64"
            ]
          },
          "metadata": {},
          "execution_count": 12
        }
      ]
    },
    {
      "cell_type": "code",
      "source": [
        "dictionary_Series[0]"
      ],
      "metadata": {
        "colab": {
          "base_uri": "https://localhost:8080/"
        },
        "id": "bK1YyW989fIr",
        "outputId": "c1d5bafb-2b7d-4fba-9e36-b31689396f10"
      },
      "execution_count": 13,
      "outputs": [
        {
          "output_type": "execute_result",
          "data": {
            "text/plain": [
              "1"
            ]
          },
          "metadata": {},
          "execution_count": 13
        }
      ]
    },
    {
      "cell_type": "code",
      "source": [
        "dictionary_Series[0:3]"
      ],
      "metadata": {
        "colab": {
          "base_uri": "https://localhost:8080/"
        },
        "id": "iB0vSP4h9fSD",
        "outputId": "d9c6c7f7-4095-495b-998c-02871de8ddbf"
      },
      "execution_count": 14,
      "outputs": [
        {
          "output_type": "execute_result",
          "data": {
            "text/plain": [
              "p    1\n",
              "q    2\n",
              "r    3\n",
              "dtype: int64"
            ]
          },
          "metadata": {},
          "execution_count": 14
        }
      ]
    },
    {
      "cell_type": "code",
      "source": [
        "max(dictionary_Series)"
      ],
      "metadata": {
        "colab": {
          "base_uri": "https://localhost:8080/"
        },
        "id": "mtZFahJY9qHC",
        "outputId": "5ce3721e-c95a-4f57-f4a1-818e929d9c3e"
      },
      "execution_count": 15,
      "outputs": [
        {
          "output_type": "execute_result",
          "data": {
            "text/plain": [
              "5"
            ]
          },
          "metadata": {},
          "execution_count": 15
        }
      ]
    },
    {
      "cell_type": "code",
      "source": [
        "dictionary_Series=pd.Series({'p': [1,2,3,4],'q': [5,6,7,8],'r': [9,10,11,12],'s': [13,14,15,16],'t': [17,18,19,20]})\n",
        "dictionary_Series"
      ],
      "metadata": {
        "colab": {
          "base_uri": "https://localhost:8080/"
        },
        "id": "RgMMc2rR9uX4",
        "outputId": "01fd9794-9886-4bdb-c719-de8e8d05e4f0"
      },
      "execution_count": 16,
      "outputs": [
        {
          "output_type": "execute_result",
          "data": {
            "text/plain": [
              "p        [1, 2, 3, 4]\n",
              "q        [5, 6, 7, 8]\n",
              "r     [9, 10, 11, 12]\n",
              "s    [13, 14, 15, 16]\n",
              "t    [17, 18, 19, 20]\n",
              "dtype: object"
            ]
          },
          "metadata": {},
          "execution_count": 16
        }
      ]
    }
  ]
}